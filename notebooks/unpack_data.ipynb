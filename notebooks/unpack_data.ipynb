{
 "cells": [
  {
   "cell_type": "code",
   "execution_count": 471,
   "metadata": {
    "collapsed": true,
    "pycharm": {
     "is_executing": false
    }
   },
   "outputs": [],
   "source": [
    "import numpy as np\n",
    "import sys\n",
    "sys.path.insert(0, '/Library/Application Support/MWorks/Scripting/Python')\n",
    "from mworks.data import MWKFile\n",
    "import pandas as pd"
   ]
  },
  {
   "cell_type": "code",
   "execution_count": 486,
   "outputs": [],
   "source": [
    "def unpack(filename):\n",
    "    '''\n",
    "    \n",
    "    :param filename: Path to mwk2 file \n",
    "    :return: \n",
    "        data_scalar: Dataframe (n_trials x n_scalar_codenames) containing scalar data\n",
    "        data_analog: Nothing (yet)\n",
    "    '''\n",
    "    \n",
    "    def get_sync_times(f):\n",
    "        '''\n",
    "        Returns start and end time of each trial in event stream\n",
    "        :param f: MWKFile object\n",
    "        :return: \n",
    "            start_sync_t: array of trial start times\n",
    "            end_sync_t: array of trial end times         \n",
    "        '''\n",
    "        sync_events = f.get_events(codes=['sync'])\n",
    "        sync_events = np.asarray([[e.data, e.time] for e in sync_events])        \n",
    "        end_sync_t = sync_events[np.where(sync_events[:, 0] == 6)[0], 1]\n",
    "        start_sync_t = sync_events[np.where(sync_events[:, 0] == 0)[0], 1]\n",
    "        \n",
    "        \n",
    "        start_sync_t = start_sync_t[:len(end_sync_t)]\n",
    "        \n",
    "        return start_sync_t, end_sync_t\n",
    "    \n",
    "    # Calculate spatial, symbolic distance, wrap, etc\n",
    "    def calc_scalar_data(df):\n",
    "        '''\n",
    "        Calculates spatial, symbolic distance, wrap, cycle, option/selection distance for trials in df\n",
    "        :param df: Dataframe containing scalar data from mwk2 stream. Modified by method        \n",
    "        '''\n",
    "        num_stims = 8 \n",
    "        start_stim_index = df['start_stim_index']\n",
    "        end_stim_index = df['end_stim_index']        \n",
    "        stim_drift_direction = df['stim_drift_direction']\n",
    "        stim_dist_cum = np.stack([np.asarray(a[0]) for a in df['stim_dist_cum']])        \n",
    "        selected = df['selected']\n",
    "        \n",
    "        df['cycle'] = start_stim_index == end_stim_index\n",
    "        df['wrap'] =  (stim_drift_direction * (end_stim_index - start_stim_index)) > 0\n",
    "        df['symb_dist'] = stim_drift_direction * (\n",
    "                (1 - df['cycle']) * (df['wrap'] * num_stims - np.abs(start_stim_index - end_stim_index)) \\\n",
    "                + df['cycle'] * num_stims)\n",
    "        df['spat_dist'] = stim_drift_direction * (\n",
    "                 (1 - df['cycle']) * (df['wrap'] * stim_dist_cum[:, -1] - np.abs(start_stim_index - end_stim_index)) \\\n",
    "                 + df['cycle'] * stim_dist_cum[:, -1])\n",
    "        df['option_dist'] = abs(selected - end_stim_index)\n",
    "        \n",
    "        \n",
    "    def get_scalar_data(f, codenames_scalar, start_sync_t, end_sync_t):\n",
    "        N = len(start_sync_t) \n",
    "        data_scalar = {}\n",
    "        for c in codenames_scalar:\n",
    "            data_scalar[c] = []\n",
    "        for trial in range(N):            \n",
    "            start_t, end_t = np.long(start_sync_t[trial]), np.long(end_sync_t[trial])\n",
    "            trial_events = f.get_events(codes = codenames_scalar, time_range=[start_t, end_t])\n",
    "            trial_events = np.asarray([[e.code, e.time, e.data] for e in trial_events])              \n",
    "            for ci, c in enumerate(codenames_scalar):                \n",
    "                code = f.reverse_codec[c]\n",
    "                code_events = trial_events[np.where(trial_events[:, 0] == code)[0], 2]\n",
    "                if len(code_events) > 0:    \n",
    "                    data_scalar[c].append(code_events)\n",
    "                else:\n",
    "                    data_scalar[c].append(None)                         \n",
    "        data_scalar = pd.DataFrame(data_scalar)\n",
    "        calc_scalar_data(data_scalar)\n",
    "        return data_scalar\n",
    "    \n",
    "    def get_analog_data(f, codenames_analog, start_sync_t, end_sync_t):\n",
    "        N = len(start_sync_t)\n",
    "        data_analog = {}\n",
    "        # for c in codenames_analog:\n",
    "            \n",
    "    fpath = '/Users/aidapiccato/Documents/MWorks/Data'\n",
    "    f =  MWKFile('%s/%s' % (fpath, filename))\n",
    "    f.open()\n",
    "    all_events = f.get_events()\n",
    "    codec = f.codec\n",
    "    codenames_scalar = ['start_stim_index', 'end_stim_index', 'pair_index', 'options_bin', 'options_pos',\n",
    "                        'ignore', 'success', 'failure', 'alpha_m', 'stim_dist_cum', 'stim_drift_direction', 'selected']\n",
    "    codenames_analog = {'eye_h', 'eye_v', 'pointer_x', 'pointer_y'}\n",
    "    start_sync_t, end_sync_t = get_sync_times(f)    \n",
    "    print('Collecting %d trials of data' % len(start_sync_t))\n",
    "    trial_dur_t = (end_sync_t - start_sync_t) / 10**6\n",
    "    print('Average trial duration: %f seconds' % np.mean(trial_dur_t))\n",
    "    print('Max trial duration: %f seconds' % np.amax(trial_dur_t))\n",
    "    print('Min trial duration: %f seconds' % np.amin(trial_dur_t))    \n",
    "    print(start_sync_t)\n",
    "    data_scalar = get_scalar_data(f, codenames_scalar, start_sync_t, end_sync_t)\n",
    "    data_analog = get_analog_data(f, codenames_analog, start_sync_t, end_sync_t)\n",
    "    return data_scalar, data_analog\n",
    "    "
   ],
   "metadata": {
    "collapsed": false,
    "pycharm": {
     "name": "#%%\n",
     "is_executing": false
    }
   }
  },
  {
   "cell_type": "code",
   "execution_count": 490,
   "outputs": [
    {
     "name": "stdout",
     "text": [
      "Collecting 6 trials of data\nAverage trial duration: 11.321598 seconds\nMax trial duration: 15.169998 seconds\nMin trial duration: 5.744559 seconds\n[24431437951 24440183793 24461701699 24473858945 24493385251 24507631058]\n"
     ],
     "output_type": "stream"
    }
   ],
   "source": [
    "data_scalar, data_analog = unpack('aidapiccato-mental-nav-20191024-172009.mwk2')"
   ],
   "metadata": {
    "collapsed": false,
    "pycharm": {
     "name": "#%%\n",
     "is_executing": false
    }
   }
  },
  {
   "cell_type": "code",
   "execution_count": 491,
   "outputs": [
    {
     "data": {
      "text/plain": "0           [0]\n1           [0]\n2           [0]\n3    [0.1, 0.1]\n4         [0.1]\n5         [0.1]\nName: alpha_m, dtype: object"
     },
     "metadata": {},
     "output_type": "execute_result",
     "execution_count": 491
    }
   ],
   "source": [
    "data_scalar['alpha_m']"
   ],
   "metadata": {
    "collapsed": false,
    "pycharm": {
     "name": "#%%\n",
     "is_executing": false
    }
   }
  },
  {
   "cell_type": "code",
   "execution_count": 492,
   "outputs": [
    {
     "name": "stdout",
     "text": [
      "0 24431437951\n6 24437182510\n0 24440183793\n6 24455353791\n0 24461701699\n6 24470857590\n0 24473858945\n6 24486564387\n0 24493385251\n6 24504629356\n0 24507631058\n6 24521540649\n"
     ],
     "output_type": "stream"
    }
   ],
   "source": [
    "f =  MWKFile('%s/%s' % (fpath, 'aidapiccato-mental-nav-20191024-172009.mwk2'))\n",
    "f.open()\n",
    "events = f.get_events()\n",
    "\n",
    "sync_events = f.get_events(codes = ['sync'])\n",
    "for e in sync_events:\n",
    "    if e.data in [0, 6]:\n",
    "        print(e.data, e.time)\n",
    "sync_events = np.asarray([[e.data, e.time] for e in sync_events])        \n",
    "end_sync_t = sync_events[np.where(sync_events[:, 0] == 6)[0], 1]\n",
    "start_sync_t = sync_events[np.where(sync_events[0:, 0] == 0)[0], 1]\n",
    "\n",
    "f.close()\n"
   ],
   "metadata": {
    "collapsed": false,
    "pycharm": {
     "name": "#%%\n",
     "is_executing": false
    }
   }
  },
  {
   "cell_type": "code",
   "execution_count": 480,
   "outputs": [
    {
     "data": {
      "text/plain": "128"
     },
     "metadata": {},
     "output_type": "execute_result",
     "execution_count": 480
    }
   ],
   "source": [
    "8 * 8 * 2\n",
    "\n"
   ],
   "metadata": {
    "collapsed": false,
    "pycharm": {
     "name": "#%%\n",
     "is_executing": false
    }
   }
  },
  {
   "cell_type": "code",
   "execution_count": null,
   "outputs": [],
   "source": [
    "\n"
   ],
   "metadata": {
    "collapsed": false,
    "pycharm": {
     "name": "#%%\n"
    }
   }
  }
 ],
 "metadata": {
  "language_info": {
   "codemirror_mode": {
    "name": "ipython",
    "version": 2
   },
   "file_extension": ".py",
   "mimetype": "text/x-python",
   "name": "python",
   "nbconvert_exporter": "python",
   "pygments_lexer": "ipython2",
   "version": "2.7.6"
  },
  "kernelspec": {
   "name": "pycharm-be6bdf18",
   "language": "python",
   "display_name": "PyCharm (mental-navigation-mworks)"
  },
  "pycharm": {
   "stem_cell": {
    "cell_type": "raw",
    "source": [],
    "metadata": {
     "collapsed": false
    }
   }
  }
 },
 "nbformat": 4,
 "nbformat_minor": 0
}