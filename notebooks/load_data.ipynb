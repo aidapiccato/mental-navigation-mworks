{
 "cells": [
  {
   "cell_type": "code",
   "execution_count": 5,
   "metadata": {
    "collapsed": true,
    "pycharm": {
     "is_executing": false
    }
   },
   "outputs": [],
   "source": [
    "import numpy as np\n",
    "import sys\n",
    "sys.path.insert(0, '/Library/Application Support/MWorks/Scripting/Python')\n",
    "from mworks.data import MWKFile"
   ]
  },
  {
   "cell_type": "code",
   "execution_count": 20,
   "outputs": [],
   "source": [
    "fpath = '/Users/aidapiccato/Documents/MWorks/Data'\n",
    "with MWKFile('%s/%s' % (fpath, 'aidapiccato-mental-nav-20191024-104538.mwk2')) as f:\n",
    "    all_events = f.get_events()\n",
    "    codec = f.codec"
   ],
   "metadata": {
    "collapsed": false,
    "pycharm": {
     "name": "#%%\n",
     "is_executing": false
    }
   }
  },
  {
   "cell_type": "code",
   "execution_count": 22,
   "outputs": [],
   "source": [
    "event = all_events[0]"
   ],
   "metadata": {
    "collapsed": false,
    "pycharm": {
     "name": "#%%\n",
     "is_executing": false
    }
   }
  },
  {
   "cell_type": "code",
   "execution_count": 25,
   "outputs": [
    {
     "data": {
      "text/plain": "{111: '#privateCalibratoreye_calibrator',\n 110: 'trial_index',\n 109: 'options_bin',\n 106: 'trials_from_meta',\n 104: 'pointer_y',\n 103: 'pointer_x',\n 102: 'space_pressed',\n 101: 'saccade',\n 100: 'eye_in_window',\n 99: 'fixation_pos_y',\n 98: 'fixation_pos_x',\n 97: 'fixation_point_size',\n 96: 'fixation_width',\n 95: 'eye_v',\n 94: 'eye_h',\n 93: 'eye_v_calibrated',\n 92: 'eye_h_calibrated',\n 91: 'eye_v_raw',\n 90: 'eye_h_raw',\n 89: 'eye_in_selector_7',\n 88: 'eye_in_selector_6',\n 87: 'eye_in_selector_5',\n 86: 'eye_in_selector_4',\n 85: 'eye_in_selector_3',\n 84: 'eye_in_selector_2',\n 83: 'eye_in_selector_1',\n 82: 'eye_in_selector_0',\n 81: 'hide_mouse',\n 80: 'py_options_bin',\n 79: 'py_num_options',\n 78: 'py_options_pos',\n 77: 'py_stim_drift_direction',\n 76: 'py_meta_index',\n 75: 'py_stim_dist_cum',\n 74: 'py_pair_index',\n 73: 'py_end_stim_index',\n 72: 'py_start_stim_index',\n 71: 'success',\n 70: 'failure',\n 69: 'nconsecsuccess',\n 68: 'sel_index',\n 67: 'nfailure',\n 66: 'nsuccess',\n 65: 'feedback',\n 64: 'choice',\n 63: 'pre_choice',\n 62: 'post_drift',\n 61: 'drift',\n 60: 'pre_drift',\n 59: 'fixation',\n 58: 'feedback_dur',\n 57: 'choice_dur',\n 56: 'pre_choice_dur',\n 55: 'post_drift_dur',\n 54: 'pre_drift_dur',\n 53: 'margin',\n 52: 'alpha_multiplier_fixed',\n 51: 'stim_drift_fixed',\n 50: 'stim_drift_start_time',\n 49: 'stim_drift_direction',\n 47: 'num_visible_stims',\n 44: 'alpha_m',\n 43: 'option_selector_distance',\n 42: 'option_stim_size',\n 41: 'option_distance',\n 32: 'depth_display',\n 30: 'num_options',\n 33: 'testing',\n 24: 'start_stim_index',\n 36: 'bg',\n 23: 'use_mouse',\n 39: 'stim_padding',\n 22: '#realtimeComponents',\n 34: 'selected',\n 21: '#stopOnError',\n 45: 'alpha_m_inc',\n 20: '#warnOnSkippedRefresh',\n 48: 'stim_drift_speed',\n 19: '#mainScreenInfo',\n 35: 'br',\n 18: '#serverName',\n 46: 'nconsecsucc_increment',\n 17: '#announceAssertion',\n 25: 'end_stim_index',\n 16: '#announceBlock',\n 28: 'option_stim_index',\n 15: '#announceTrial',\n 31: 'num_pairs',\n 14: '#announceCurrentState',\n 26: 'stim_index',\n 13: '#requestCalibrator',\n 37: 'bb',\n 12: '#announceCalibrator',\n 40: 'stim_position_y',\n 11: '#announceSound',\n 27: 'pair_index',\n 10: '#announceStimulus',\n 38: 'stim_size',\n 9: '#loadedExperiment',\n 107: 'selection_index',\n 8: '#experimentLoadProgress',\n 7: '#stimDisplayUpdate',\n 105: 'num_trials_per_block',\n 6: '#announceMessage',\n 108: 'options_pos',\n 5: '#state_system_mode',\n 29: 'stim_dist_cum',\n 4: '#allowAltFailover'}"
     },
     "metadata": {},
     "output_type": "execute_result",
     "execution_count": 25
    }
   ],
   "source": [
    "codec"
   ],
   "metadata": {
    "collapsed": false,
    "pycharm": {
     "name": "#%%\n",
     "is_executing": false
    }
   }
  },
  {
   "cell_type": "code",
   "execution_count": null,
   "outputs": [],
   "source": [
    "\n"
   ],
   "metadata": {
    "collapsed": false,
    "pycharm": {
     "name": "#%%\n"
    }
   }
  }
 ],
 "metadata": {
  "language_info": {
   "codemirror_mode": {
    "name": "ipython",
    "version": 2
   },
   "file_extension": ".py",
   "mimetype": "text/x-python",
   "name": "python",
   "nbconvert_exporter": "python",
   "pygments_lexer": "ipython2",
   "version": "2.7.6"
  },
  "kernelspec": {
   "name": "pycharm-be6bdf18",
   "language": "python",
   "display_name": "PyCharm (mental-navigation-mworks)"
  },
  "pycharm": {
   "stem_cell": {
    "cell_type": "raw",
    "source": [],
    "metadata": {
     "collapsed": false
    }
   }
  }
 },
 "nbformat": 4,
 "nbformat_minor": 0
}